{
 "cells": [
  {
   "cell_type": "markdown",
   "metadata": {
    "id": "UTKWilJoyT3R"
   },
   "source": [
    "## Exemplo SVM - Classificação de flores - testando kernels"
   ]
  },
  {
   "cell_type": "code",
   "execution_count": null,
   "metadata": {
    "id": "FfPbYI0Byo35"
   },
   "outputs": [],
   "source": [
    "import pandas as pd\n",
    "import numpy as np\n",
    "import matplotlib.pyplot as plt\n",
    "from sklearn.model_selection import train_test_split\n",
    "from sklearn.metrics import classification_report, confusion_matrix\n",
    "%matplotlib inline\n",
    "from sklearn.svm import SVC\n",
    "\n",
    "url = \"https://archive.ics.uci.edu/ml/machine-learning-databases/iris/iris.data\"\n",
    "\n",
    "# Assign colum names to the dataset\n",
    "names = ['sepal-length', 'sepal-width', 'petal-length', 'petal-width', 'Class']\n",
    "\n",
    "# Read dataset to pandas dataframe\n",
    "dataset = pd.read_csv(url, names=names)\n",
    "\n",
    "X = dataset.drop('Class', axis=1)\n",
    "y = dataset['Class']\n",
    "\n",
    "from sklearn.model_selection import train_test_split\n",
    "X_train, X_test, y_train, y_test = train_test_split(X, y, test_size = 0.35, random_state=100,stratify=y)"
   ]
  },
  {
   "cell_type": "markdown",
   "metadata": {
    "id": "krWYRVzrHICZ"
   },
   "source": [
    "### Kernel linear"
   ]
  },
  {
   "cell_type": "code",
   "execution_count": null,
   "metadata": {
    "colab": {
     "base_uri": "https://localhost:8080/"
    },
    "executionInfo": {
     "elapsed": 779,
     "status": "ok",
     "timestamp": 1615934726199,
     "user": {
      "displayName": "Jônata Tyska Carvalho",
      "photoUrl": "https://lh3.googleusercontent.com/a-/AOh14GiLr_UqETKfFFtVOrJCHw2hQ0J7aFxf1R6KDaQ-FA=s64",
      "userId": "08015082132807465330"
     },
     "user_tz": 180
    },
    "id": "TsW2JB35EPGY",
    "outputId": "df0e6808-62a9-4182-a2c4-2bbde232fcd2"
   },
   "outputs": [
    {
     "name": "stdout",
     "output_type": "stream",
     "text": [
      "[[18  0  0]\n",
      " [ 0 17  0]\n",
      " [ 0  2 16]]\n",
      "                 precision    recall  f1-score   support\n",
      "\n",
      "    Iris-setosa       1.00      1.00      1.00        18\n",
      "Iris-versicolor       0.89      1.00      0.94        17\n",
      " Iris-virginica       1.00      0.89      0.94        18\n",
      "\n",
      "       accuracy                           0.96        53\n",
      "      macro avg       0.96      0.96      0.96        53\n",
      "   weighted avg       0.97      0.96      0.96        53\n",
      "\n"
     ]
    }
   ],
   "source": [
    "model = SVC(kernel='linear')\n",
    "model.fit(X_train, y_train)\n",
    "y_pred = model.predict(X_test)\n",
    "print(confusion_matrix(y_test, y_pred))\n",
    "print(classification_report(y_test, y_pred))"
   ]
  },
  {
   "cell_type": "markdown",
   "metadata": {
    "id": "d63jv3wJy1iL"
   },
   "source": [
    "### Kernel polynomial"
   ]
  },
  {
   "cell_type": "code",
   "execution_count": null,
   "metadata": {
    "colab": {
     "base_uri": "https://localhost:8080/"
    },
    "executionInfo": {
     "elapsed": 617,
     "status": "ok",
     "timestamp": 1615934984322,
     "user": {
      "displayName": "Jônata Tyska Carvalho",
      "photoUrl": "https://lh3.googleusercontent.com/a-/AOh14GiLr_UqETKfFFtVOrJCHw2hQ0J7aFxf1R6KDaQ-FA=s64",
      "userId": "08015082132807465330"
     },
     "user_tz": 180
    },
    "id": "U7mvY8i7OwIf",
    "outputId": "783b24a9-f34c-4b45-c7ff-4ea915d3995f"
   },
   "outputs": [
    {
     "data": {
      "text/plain": [
       "SVC(C=1.0, break_ties=False, cache_size=200, class_weight=None, coef0=0.0,\n",
       "    decision_function_shape='ovr', degree=5, gamma='scale', kernel='poly',\n",
       "    max_iter=-1, probability=False, random_state=None, shrinking=True,\n",
       "    tol=0.001, verbose=False)"
      ]
     },
     "execution_count": 7,
     "metadata": {
      "tags": []
     },
     "output_type": "execute_result"
    }
   ],
   "source": [
    "model = SVC(kernel='poly', degree=5)\n",
    "model.fit(X_train, y_train)"
   ]
  },
  {
   "cell_type": "code",
   "execution_count": null,
   "metadata": {
    "colab": {
     "base_uri": "https://localhost:8080/"
    },
    "executionInfo": {
     "elapsed": 557,
     "status": "ok",
     "timestamp": 1615934768989,
     "user": {
      "displayName": "Jônata Tyska Carvalho",
      "photoUrl": "https://lh3.googleusercontent.com/a-/AOh14GiLr_UqETKfFFtVOrJCHw2hQ0J7aFxf1R6KDaQ-FA=s64",
      "userId": "08015082132807465330"
     },
     "user_tz": 180
    },
    "id": "r8baiAPPzAtr",
    "outputId": "b98b0510-9df9-499f-fbbd-672dbef4205b"
   },
   "outputs": [
    {
     "name": "stdout",
     "output_type": "stream",
     "text": [
      "[[18  0  0]\n",
      " [ 0 16  1]\n",
      " [ 0  5 13]]\n",
      "                 precision    recall  f1-score   support\n",
      "\n",
      "    Iris-setosa       1.00      1.00      1.00        18\n",
      "Iris-versicolor       0.76      0.94      0.84        17\n",
      " Iris-virginica       0.93      0.72      0.81        18\n",
      "\n",
      "       accuracy                           0.89        53\n",
      "      macro avg       0.90      0.89      0.88        53\n",
      "   weighted avg       0.90      0.89      0.89        53\n",
      "\n"
     ]
    }
   ],
   "source": [
    "model = SVC(kernel='poly', degree=5)\n",
    "model.fit(X_train, y_train)\n",
    "y_pred = model.predict(X_test)\n",
    "print(confusion_matrix(y_test, y_pred))\n",
    "print(classification_report(y_test, y_pred))"
   ]
  },
  {
   "cell_type": "markdown",
   "metadata": {
    "id": "asZFd5cOzf6y"
   },
   "source": [
    "### Kernel Radial (RBF) - Gaussiano"
   ]
  },
  {
   "cell_type": "code",
   "execution_count": null,
   "metadata": {
    "colab": {
     "base_uri": "https://localhost:8080/"
    },
    "executionInfo": {
     "elapsed": 574,
     "status": "ok",
     "timestamp": 1615934781681,
     "user": {
      "displayName": "Jônata Tyska Carvalho",
      "photoUrl": "https://lh3.googleusercontent.com/a-/AOh14GiLr_UqETKfFFtVOrJCHw2hQ0J7aFxf1R6KDaQ-FA=s64",
      "userId": "08015082132807465330"
     },
     "user_tz": 180
    },
    "id": "2pXWrstBzUZB",
    "outputId": "fb901616-871c-4de0-be02-20bd1af57bb8"
   },
   "outputs": [
    {
     "name": "stdout",
     "output_type": "stream",
     "text": [
      "[[18  0  0]\n",
      " [ 0 16  1]\n",
      " [ 0  4 14]]\n",
      "                 precision    recall  f1-score   support\n",
      "\n",
      "    Iris-setosa       1.00      1.00      1.00        18\n",
      "Iris-versicolor       0.80      0.94      0.86        17\n",
      " Iris-virginica       0.93      0.78      0.85        18\n",
      "\n",
      "       accuracy                           0.91        53\n",
      "      macro avg       0.91      0.91      0.90        53\n",
      "   weighted avg       0.91      0.91      0.91        53\n",
      "\n"
     ]
    }
   ],
   "source": [
    "model = SVC(kernel='rbf')\n",
    "model.fit(X_train, y_train)\n",
    "y_pred = model.predict(X_test)\n",
    "print(confusion_matrix(y_test, y_pred))\n",
    "print(classification_report(y_test, y_pred))"
   ]
  },
  {
   "cell_type": "markdown",
   "metadata": {
    "id": "OSksa3GWztWL"
   },
   "source": [
    "### Kernel Sigmoidal"
   ]
  },
  {
   "cell_type": "code",
   "execution_count": null,
   "metadata": {
    "colab": {
     "base_uri": "https://localhost:8080/"
    },
    "executionInfo": {
     "elapsed": 566,
     "status": "ok",
     "timestamp": 1615934792067,
     "user": {
      "displayName": "Jônata Tyska Carvalho",
      "photoUrl": "https://lh3.googleusercontent.com/a-/AOh14GiLr_UqETKfFFtVOrJCHw2hQ0J7aFxf1R6KDaQ-FA=s64",
      "userId": "08015082132807465330"
     },
     "user_tz": 180
    },
    "id": "AAJ4pr8lzrz2",
    "outputId": "7710ca0e-efe1-4f58-cf69-cbeaddf3eed3"
   },
   "outputs": [
    {
     "name": "stdout",
     "output_type": "stream",
     "text": [
      "[[ 0 18  0]\n",
      " [ 0 17  0]\n",
      " [ 0 18  0]]\n",
      "                 precision    recall  f1-score   support\n",
      "\n",
      "    Iris-setosa       0.00      0.00      0.00        18\n",
      "Iris-versicolor       0.32      1.00      0.49        17\n",
      " Iris-virginica       0.00      0.00      0.00        18\n",
      "\n",
      "       accuracy                           0.32        53\n",
      "      macro avg       0.11      0.33      0.16        53\n",
      "   weighted avg       0.10      0.32      0.16        53\n",
      "\n"
     ]
    },
    {
     "name": "stderr",
     "output_type": "stream",
     "text": [
      "/usr/local/lib/python3.7/dist-packages/sklearn/metrics/_classification.py:1272: UndefinedMetricWarning: Precision and F-score are ill-defined and being set to 0.0 in labels with no predicted samples. Use `zero_division` parameter to control this behavior.\n",
      "  _warn_prf(average, modifier, msg_start, len(result))\n"
     ]
    }
   ],
   "source": [
    "model = SVC(kernel='sigmoid')\n",
    "model.fit(X_train, y_train)\n",
    "y_pred = model.predict(X_test)\n",
    "print(confusion_matrix(y_test, y_pred))\n",
    "print(classification_report(y_test, y_pred))"
   ]
  },
  {
   "cell_type": "markdown",
   "metadata": {
    "id": "UaxrZMXQnkxT"
   },
   "source": [
    "baseado no exemplo apresentado em: https://stackabuse.com/implementing-svm-and-kernel-svm-with-pythons-scikit-learn/"
   ]
  }
 ],
 "metadata": {
  "colab": {
   "name": "Cópia de Exemplo SVM.ipynb",
   "provenance": [
    {
     "file_id": "1j_feMYyoWZdV1KCOMHLYsxKBfVzt8zI8",
     "timestamp": 1617393948739
    },
    {
     "file_id": "13Qn2v52LchVVZiDAs_Kh_qTHWc-8gSLf",
     "timestamp": 1615915278562
    },
    {
     "file_id": "1CuYysekSa_y46gZKL62ePoat0zGYYl4w",
     "timestamp": 1601145301015
    },
    {
     "file_id": "1RtaiLLIEY43HyWAexUdi4f5DZNcL96Cr",
     "timestamp": 1601144411219
    }
   ]
  },
  "kernelspec": {
   "display_name": "Python 3",
   "language": "python",
   "name": "python3"
  },
  "language_info": {
   "codemirror_mode": {
    "name": "ipython",
    "version": 3
   },
   "file_extension": ".py",
   "mimetype": "text/x-python",
   "name": "python",
   "nbconvert_exporter": "python",
   "pygments_lexer": "ipython3",
   "version": "3.8.3"
  }
 },
 "nbformat": 4,
 "nbformat_minor": 1
}
